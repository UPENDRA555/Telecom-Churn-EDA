{
  "nbformat": 4,
  "nbformat_minor": 0,
  "metadata": {
    "colab": {
      "private_outputs": true,
      "provenance": [],
      "collapsed_sections": [
        "UV0SzAkaZNRQ",
        "gIfDvo9L0UH2"
      ]
    },
    "kernelspec": {
      "name": "python3",
      "display_name": "Python 3"
    },
    "language_info": {
      "name": "python"
    }
  },
  "cells": [
    {
      "cell_type": "markdown",
      "source": [
        "# **Project Name**    -Orange Telecom Prevention and Predicting Churn\n",
        "\n"
      ],
      "metadata": {
        "id": "vncDsAP0Gaoa"
      }
    },
    {
      "cell_type": "markdown",
      "source": [
        "##### **Project Type**    - EDA\n",
        "##### **Contribution**    - Individual\n",
        "##### **Team Member 1 -**- Upendra Pratap Singh\n"
      ],
      "metadata": {
        "id": "beRrZCGUAJYm"
      }
    },
    {
      "cell_type": "markdown",
      "source": [
        "# **GitHub Link -**"
      ],
      "metadata": {
        "id": "w6K7xa23Elo4"
      }
    },
    {
      "cell_type": "markdown",
      "source": [
        "https://github.com/UPENDRA555/Telecom-Churn-EDA/tree/main"
      ],
      "metadata": {
        "id": "h1o69JH3Eqqn"
      }
    },
    {
      "cell_type": "markdown",
      "source": [
        "# **Problem Statement**\n"
      ],
      "metadata": {
        "id": "yQaldy8SH6Dl"
      }
    },
    {
      "cell_type": "markdown",
      "source": [
        "Orange S.A., formerly France Télécom S.A., is a French multinational telecommunications corporation. The Orange Telecom's Churn Dataset, consists of cleaned customer activity data (features), along with a churn label specifying whether a customer cancelled the subscription. Explore and analyze the data to discover key factors responsible for customer churn and come up with ways/recommendations to ensure customer retention."
      ],
      "metadata": {
        "id": "og7hthiFBgWC"
      }
    },
    {
      "cell_type": "markdown",
      "source": [
        "***DATA DISCRIPTION***"
      ],
      "metadata": {
        "id": "6XVBOe1bXykn"
      }
    },
    {
      "cell_type": "markdown",
      "source": [
        "This research employed a binary variable, default Churn (True,False),True means churned customer, False means retained customer, as the response variable. This study reviewed the literature and used the following 20 variables as explanatory variables\n",
        "\n",
        "*   STATE: 51 Unique States name\n",
        "*   Account Length: Length of The Account\n",
        "\n",
        "*   Area Code: Code Number of Area having some States\n",
        "*   International Plan: Yes Indicate International Plan is Present and No Indicates no subscription for Internatinal Plan\n",
        "\n",
        "*   Voice Mail Plan: Yes Indicates Voice Mail Plan is Present and No Indicates no subscription for Voice Mail Plan\n",
        "*   Number vmail messages: Number of Voice Mail Messages ranging from 0 to 50\n",
        "\n",
        "*   Total day minutes: Total Number of Minutes Spent in Morning\n",
        "*   Total day calls: Total Number of Calls made in Morning\n",
        "\n",
        "*   Total day charge: Total Charge to the Customers in Morning\n",
        "*   Total eve minutes: Total Number of Minutes calls in Evening\n",
        "\n",
        "*   Total eve calls: Total Number of Calls made in Evening\n",
        "*   Total eve charge: Total Charge to the Customers in Morning\n",
        "\n",
        "*   Total night minutes: Total Number of Minutes calls in the Night\n",
        "*   Total night calls: Total Number of Calls made in Night\n",
        "\n",
        "*   Total night charge: Total Charge to the Customers in Night\n",
        "*   Total intl minutes: Total Number of international calls in Minutes\n",
        "\n",
        "*   Total intl calls: Total number of international calls made\n",
        "*   Total intl charge: Total charges for international calls\n",
        "\n",
        "*   Customer service calls: Number of customer service calls made by customer\n",
        "*   Churn: Customer Churn, True means churned customer, False means retained customer\n",
        "\n",
        "\n",
        "\n",
        "\n",
        "\n",
        "\n",
        "\n",
        "\n",
        "\n",
        "\n",
        "\n",
        "\n",
        "\n",
        "\n",
        "\n",
        "\n",
        "\n",
        "\n",
        "\n",
        "\n"
      ],
      "metadata": {
        "id": "w1EgvTv-X2Fu"
      }
    },
    {
      "cell_type": "markdown",
      "source": [
        "# ***Let's Begin !***"
      ],
      "metadata": {
        "id": "O_i_v8NEhb9l"
      }
    },
    {
      "cell_type": "markdown",
      "source": [
        "## ***1. Know Your Data***"
      ],
      "metadata": {
        "id": "HhfV-JJviCcP"
      }
    },
    {
      "cell_type": "markdown",
      "source": [
        "### Import Libraries"
      ],
      "metadata": {
        "id": "Y3lxredqlCYt"
      }
    },
    {
      "cell_type": "code",
      "source": [
        "# Import Libraries\n",
        "import numpy as np\n",
        "import pandas as pd\n",
        "import seaborn as sns\n",
        "import matplotlib.ticker as mtick\n",
        "import matplotlib.pyplot as plt\n",
        "%matplotlib inline\n",
        "import warnings\n",
        "warnings.filterwarnings('ignore')"
      ],
      "metadata": {
        "id": "M8Vqi-pPk-HR"
      },
      "execution_count": null,
      "outputs": []
    },
    {
      "cell_type": "markdown",
      "source": [
        "### Dataset Loading"
      ],
      "metadata": {
        "id": "3RnN4peoiCZX"
      }
    },
    {
      "cell_type": "code",
      "source": [
        "from google.colab import drive\n",
        "drive.mount('/content/drive')"
      ],
      "metadata": {
        "id": "BNMxDiBI_SnV"
      },
      "execution_count": null,
      "outputs": []
    },
    {
      "cell_type": "code",
      "source": [
        "# Load Dataset\n",
        "df = pd.read_csv('/content/drive/MyDrive/Colab Notebooks/Telecom Churn.csv')"
      ],
      "metadata": {
        "id": "4CkvbW_SlZ_R"
      },
      "execution_count": null,
      "outputs": []
    },
    {
      "cell_type": "markdown",
      "source": [
        "### Dataset First View"
      ],
      "metadata": {
        "id": "x71ZqKXriCWQ"
      }
    },
    {
      "cell_type": "code",
      "source": [
        "# Dataset First Look\n",
        "df.head()"
      ],
      "metadata": {
        "id": "LWNFOSvLl09H"
      },
      "execution_count": null,
      "outputs": []
    },
    {
      "cell_type": "code",
      "source": [
        "df.tail()"
      ],
      "metadata": {
        "id": "o6o6RjD8_-hF"
      },
      "execution_count": null,
      "outputs": []
    },
    {
      "cell_type": "markdown",
      "source": [
        "### Dataset Rows & Columns count"
      ],
      "metadata": {
        "id": "7hBIi_osiCS2"
      }
    },
    {
      "cell_type": "code",
      "source": [
        "# Dataset Rows & Columns count\n",
        "print('The row & column count' )\n",
        "df.shape"
      ],
      "metadata": {
        "id": "Kllu7SJgmLij"
      },
      "execution_count": null,
      "outputs": []
    },
    {
      "cell_type": "markdown",
      "source": [
        "### Dataset Information"
      ],
      "metadata": {
        "id": "JlHwYmJAmNHm"
      }
    },
    {
      "cell_type": "code",
      "source": [
        "# Dataset Info\n",
        "df.info()"
      ],
      "metadata": {
        "id": "e9hRXRi6meOf"
      },
      "execution_count": null,
      "outputs": []
    },
    {
      "cell_type": "code",
      "source": [
        "df.dtypes"
      ],
      "metadata": {
        "id": "-Z9GF4ajAPEO"
      },
      "execution_count": null,
      "outputs": []
    },
    {
      "cell_type": "markdown",
      "source": [
        "#### Duplicate Values"
      ],
      "metadata": {
        "id": "35m5QtbWiB9F"
      }
    },
    {
      "cell_type": "code",
      "source": [
        "# Dataset Duplicate Value Count\n",
        "duplicate_value=len(df[df.duplicated()])\n",
        "print('The number of duplicate value in theis data:', duplicate_value)"
      ],
      "metadata": {
        "id": "1sLdpKYkmox0"
      },
      "execution_count": null,
      "outputs": []
    },
    {
      "cell_type": "markdown",
      "source": [
        "\n",
        "\n",
        "#### Missing Values/Null Values"
      ],
      "metadata": {
        "id": "PoPl-ycgm1ru"
      }
    },
    {
      "cell_type": "code",
      "source": [
        "# Missing Values/Null Values Count\n",
        "def show_missing():\n",
        "    missing = df.columns[df.isnull().any()].tolist()\n",
        "    return missing\n",
        "\n",
        "# Missing data counts and percentage\n",
        "print('Missing Data Count')\n",
        "print(df[show_missing()].isnull().sum().sort_values(ascending = False))\n",
        "print('--'*50)\n",
        "print('Missing Data Percentage')\n",
        "print(round(df[show_missing()].isnull().sum().sort_values(ascending = False)/len(df)*100,2))\n"
      ],
      "metadata": {
        "id": "GgHWkxvamxVg"
      },
      "execution_count": null,
      "outputs": []
    },
    {
      "cell_type": "code",
      "source": [
        "df.isna().sum()"
      ],
      "metadata": {
        "id": "rQqLnJtp2TJp"
      },
      "execution_count": null,
      "outputs": []
    },
    {
      "cell_type": "markdown",
      "source": [
        "No Missing value is present in the dataset"
      ],
      "metadata": {
        "id": "vUdoAm3hDa7Y"
      }
    },
    {
      "cell_type": "code",
      "source": [
        "# Visualizing the missing values\n",
        "!pip install missingno"
      ],
      "metadata": {
        "id": "3q5wnI3om9sJ"
      },
      "execution_count": null,
      "outputs": []
    },
    {
      "cell_type": "code",
      "source": [
        "# Plot a Distplot of missing value\n",
        "import missingno as msno\n",
        "msno.matrix(df)"
      ],
      "metadata": {
        "id": "i1MwRm1DDPbd"
      },
      "execution_count": null,
      "outputs": []
    },
    {
      "cell_type": "code",
      "source": [
        "# Plot a bar graph of missing value\n",
        "msno.bar(df)"
      ],
      "metadata": {
        "id": "LXDwI6qHDSOx"
      },
      "execution_count": null,
      "outputs": []
    },
    {
      "cell_type": "markdown",
      "source": [
        "## ***Understanding Your Variables***"
      ],
      "metadata": {
        "id": "nA9Y7ga8ng1Z"
      }
    },
    {
      "cell_type": "code",
      "source": [
        "# Dataset Columns\n",
        "df.columns"
      ],
      "metadata": {
        "id": "j7xfkqrt5Ag5"
      },
      "execution_count": null,
      "outputs": []
    },
    {
      "cell_type": "code",
      "source": [
        "# Dataset Describe\n",
        "df.describe()"
      ],
      "metadata": {
        "id": "DnOaZdaE5Q5t"
      },
      "execution_count": null,
      "outputs": []
    },
    {
      "cell_type": "markdown",
      "source": [
        "### Check Unique Values for each variable."
      ],
      "metadata": {
        "id": "u3PMJOP6ngxN"
      }
    },
    {
      "cell_type": "code",
      "source": [
        "# Check Unique Values for each variable.\n",
        "df.nunique()"
      ],
      "metadata": {
        "id": "zms12Yq5n-jE"
      },
      "execution_count": null,
      "outputs": []
    },
    {
      "cell_type": "markdown",
      "source": [
        "## ***Data Wrangling***"
      ],
      "metadata": {
        "id": "dauF4eBmngu3"
      }
    },
    {
      "cell_type": "markdown",
      "source": [
        "### Data Wrangling Code"
      ],
      "metadata": {
        "id": "bKJF3rekwFvQ"
      }
    },
    {
      "cell_type": "code",
      "source": [
        "# Write your code to make your dataset analysis ready.\n",
        "data = df.copy()\n",
        "data.head()"
      ],
      "metadata": {
        "id": "wk-9a2fpoLcV"
      },
      "execution_count": null,
      "outputs": []
    },
    {
      "cell_type": "code",
      "source": [
        "data.dtypes"
      ],
      "metadata": {
        "id": "z0LrRe8xJyxi"
      },
      "execution_count": null,
      "outputs": []
    },
    {
      "cell_type": "code",
      "source": [
        "data.shape"
      ],
      "metadata": {
        "id": "QAOXYS9LEN6M"
      },
      "execution_count": null,
      "outputs": []
    },
    {
      "cell_type": "markdown",
      "source": [
        "we can see that all the 20 columns have 3333 count which indicates there is no missing value"
      ],
      "metadata": {
        "id": "0WX-Ale7EGac"
      }
    },
    {
      "cell_type": "markdown",
      "source": [
        "\n",
        "\n",
        "*   'Area Code' and 'Customer service calls' feature are show a integer types but they are categorical type\n",
        "*   Then convert these feature into categorical type\n",
        "\n"
      ],
      "metadata": {
        "id": "_UGcgnVfJ234"
      }
    },
    {
      "cell_type": "code",
      "source": [
        "data['Area code']= data['Area code'].astype('category')\n",
        "data['Customer service calls']= data['Customer service calls'].astype('category')"
      ],
      "metadata": {
        "id": "NVLCcsVxKlDX"
      },
      "execution_count": null,
      "outputs": []
    },
    {
      "cell_type": "code",
      "source": [
        "numerical_features= data.select_dtypes(include=['int64', 'float64'])\n",
        "numerical_features.head()"
      ],
      "metadata": {
        "id": "b4WLX11o8x9r"
      },
      "execution_count": null,
      "outputs": []
    },
    {
      "cell_type": "code",
      "source": [
        "categorical_features= data.select_dtypes(include=['object', 'category'])\n",
        "categorical_features.head()"
      ],
      "metadata": {
        "id": "DtGZme-981-i"
      },
      "execution_count": null,
      "outputs": []
    },
    {
      "cell_type": "markdown",
      "source": [
        "## *** EDA(Exploratory Data Analysis)***"
      ],
      "metadata": {
        "id": "GF8Ens_Soomf"
      }
    },
    {
      "cell_type": "markdown",
      "source": [
        "#### Dependent Varaiable analysis"
      ],
      "metadata": {
        "id": "0wOQAZs5pc--"
      }
    },
    {
      "cell_type": "code",
      "source": [
        "# Dependent variable analysis of the dataset\n",
        "# Find a total count of a dependent variable churn\n",
        "data.Churn.value_counts()"
      ],
      "metadata": {
        "id": "dOMbiXvQJnYD"
      },
      "execution_count": null,
      "outputs": []
    },
    {
      "cell_type": "code",
      "source": [
        "# Plot a pie chart and bar chart of churen feature\n",
        "\n",
        "plt.subplot(2, 1, 1)\n",
        "data[\"Churn\"].value_counts().plot.pie( figsize= (40, 40), fontsize=10, autopct= \"%1.2f%%\")\n",
        "\n",
        "plt.subplot(2, 1, 2)\n",
        "data[\"Churn\"].value_counts().plot(kind= 'bar', figsize= (10, 10), fontsize=20)\n",
        "plt.xlabel('Churn Type')\n",
        "plt.ylabel('Churn Count')\n",
        "plt.suptitle(\"Churn Percentage by Customer\", fontsize=25)\n",
        "plt.show()"
      ],
      "metadata": {
        "id": "7v_ESjsspbW7"
      },
      "execution_count": null,
      "outputs": []
    },
    {
      "cell_type": "markdown",
      "source": [
        "\n",
        "\n",
        "*   As we can see from above graph that both classes are not in proportion and we have imbalanced dataset.\n",
        "*   Churn customer is 483(14.49%) and retained customer is 2580(85.51%)\n",
        "\n",
        "\n"
      ],
      "metadata": {
        "id": "IYGcGZDDkMND"
      }
    },
    {
      "cell_type": "markdown",
      "source": [
        "#### For Categorical data Univariate analysis"
      ],
      "metadata": {
        "id": "4Of9eVA-YrdM"
      }
    },
    {
      "cell_type": "code",
      "source": [
        "# Find a unique value of categorical variable\n",
        "for colm in categorical_features:\n",
        "  data[colm].unique()\n",
        "  print(data[colm].unique())"
      ],
      "metadata": {
        "id": "irlUoxc8YrdO"
      },
      "execution_count": null,
      "outputs": []
    },
    {
      "cell_type": "code",
      "source": [
        "# Find a total count of a unique value\n",
        "for colm in categorical_features:\n",
        "  data[colm].value_counts()\n",
        "  print(data[colm].value_counts())\n"
      ],
      "metadata": {
        "id": "JYpii2-z3Pwu"
      },
      "execution_count": null,
      "outputs": []
    },
    {
      "cell_type": "code",
      "source": [
        "# Plot a bar graph of a categorical feature\n",
        "for colm in categorical_features:\n",
        "  data[colm].value_counts().plot(kind= 'bar', figsize= (10, 10), fontsize=10, width= 0.3)\n",
        "  plt.xlabel(colm)\n",
        "  plt.ylabel('Count')\n",
        "  plt.show()"
      ],
      "metadata": {
        "id": "47F3M6bX6fbk"
      },
      "execution_count": null,
      "outputs": []
    },
    {
      "cell_type": "markdown",
      "source": [
        "\n",
        "\n",
        "*   The maximum number of calls is 106 in WV(West Virginia) State and minimum number of calls is 34 in CA(California) State.\n",
        "*   The maximum number of calls is 1655 in 415 Area code and minimum number of calls is 838 in 408 Area code.\n",
        "\n",
        "*   The number of calls is 323 in International plan and number of calls is 3010 not a International plan.\n",
        "*   The number of calls is 922 in Voice mail plan and number of calls is 2411 not a Voice mail plan.\n",
        "\n",
        "\n"
      ],
      "metadata": {
        "id": "tVYZpHjPHdH3"
      }
    },
    {
      "cell_type": "markdown",
      "source": [
        "### For Categorical data bivariate analysis with target feature churn"
      ],
      "metadata": {
        "id": "bNZ70TYQD8ty"
      }
    },
    {
      "cell_type": "code",
      "source": [
        "for colm in categorical_features:\n",
        "  percentage_churn = pd.crosstab(df[colm], df['Churn'] )\n",
        "  percentage_churn[\"Statewise_churn\"] = percentage_churn.apply(lambda x: x[1]*100/(x[0]+x[1]), axis=1)\n",
        "  print('=========================================================================================================================================================')\n",
        "  print(percentage_churn.sort_values(by=\"Statewise_churn\", ascending=False).head(3))\n",
        "  print('-------------------------------------------------------------------------------------------------------------------------------------------------')\n",
        "  print(percentage_churn.sort_values(by=\"Statewise_churn\", ascending=False).tail(3))"
      ],
      "metadata": {
        "id": "t0SjDayvNJo1"
      },
      "execution_count": null,
      "outputs": []
    },
    {
      "cell_type": "code",
      "source": [
        "# Plot a bar graph between a categorical feature and categorical feature\n",
        "for colm in categorical_features:\n",
        "  fig, ax = plt.subplots(figsize=(15,10))\n",
        "\n",
        "  ax = sns.countplot(x=data[colm], hue='Churn', data=data, width= 0.5)\n",
        "  ax.set_ylabel('COUNTS', rotation=0, labelpad=100,size=10)\n",
        "  ax.set_xlabel(colm)\n",
        "  ax.yaxis.set_label_coords(0.03, 0.75)\n",
        "  ax.tick_params(labelsize=10)"
      ],
      "metadata": {
        "id": "zV3q08pD-xhz"
      },
      "execution_count": null,
      "outputs": []
    },
    {
      "cell_type": "markdown",
      "source": [
        "\n",
        "\n",
        "*   State NJ (New Jersey) has highest churn rate, State HI(Hawaii) has lowest churn rate\n",
        "*   Area code (510) has highest churn rate, Area code (415) has lowest churn rate\n",
        "\n",
        "*   International plan is yes has highest churn rate, International plan is no has lowest churn rate\n",
        "*   Voice mail plan is yes has highest churn rate, Voice mail plan is no has lowest churn rate\n",
        "\n",
        "*   Data shows that if there are more 3 customer service calls the churn increasesm\n",
        "\n",
        "\n",
        "\n",
        "\n",
        "\n",
        "\n"
      ],
      "metadata": {
        "id": "ofvLR_GnO7k9"
      }
    },
    {
      "cell_type": "markdown",
      "source": [
        "### For numerical data Univariate analysis"
      ],
      "metadata": {
        "id": "ZN9RUQbfFgvw"
      }
    },
    {
      "cell_type": "code",
      "source": [
        "# Plot a distplot of a numerical features\n",
        "for colm in numerical_features:\n",
        "  sns.displot(x=df[colm])"
      ],
      "metadata": {
        "id": "rPqesOPO-N3g"
      },
      "execution_count": null,
      "outputs": []
    },
    {
      "cell_type": "markdown",
      "source": [
        "From distribution plot it has been observed that the data is normal distributed which is good thing for analyzing data"
      ],
      "metadata": {
        "id": "0MU6kccbGi8R"
      }
    },
    {
      "cell_type": "code",
      "source": [
        "# Plot a boxplot of a numerical features with target feature 'Churn\"\n",
        "for colm in numerical_features:\n",
        "  data.boxplot(column=colm, by='Churn')\n",
        "  plt.show()"
      ],
      "metadata": {
        "id": "Sa-_QsHPOans"
      },
      "execution_count": null,
      "outputs": []
    },
    {
      "cell_type": "code",
      "source": [
        "for colm in numerical_features:\n",
        "  ax = data.groupby('Churn')[colm].mean()\n",
        "  print('--------------------------------------------------------------------')\n",
        "  print(pd.DataFrame(ax))"
      ],
      "metadata": {
        "id": "B6BOz6n3Dlwd"
      },
      "execution_count": null,
      "outputs": []
    },
    {
      "cell_type": "code",
      "source": [
        "for colm in numerical_features:\n",
        "  ax = data.groupby('Churn')[colm].max()\n",
        "  print('--------------------------------------------------------------------')\n",
        "  print(pd.DataFrame(ax))"
      ],
      "metadata": {
        "id": "1HP90TQFIgBk"
      },
      "execution_count": null,
      "outputs": []
    },
    {
      "cell_type": "code",
      "source": [
        "# Plot a barplot of mean value\n",
        "for colm in numerical_features:\n",
        "  ax = data.groupby('Churn')[colm].mean()\n",
        "  ax.plot(legend=True, kind = 'barh')\n",
        "  plt.show()"
      ],
      "metadata": {
        "id": "cRa1zOKN74LC"
      },
      "execution_count": null,
      "outputs": []
    },
    {
      "cell_type": "code",
      "source": [
        "# Plot a barplot of maximum value\n",
        "for colm in numerical_features:\n",
        "  ax = data.groupby('Churn')[colm].max()\n",
        "  ax.plot(legend=True, kind = 'barh')\n",
        "  plt.show()"
      ],
      "metadata": {
        "id": "c4qr-Q2k0L4I"
      },
      "execution_count": null,
      "outputs": []
    },
    {
      "cell_type": "code",
      "source": [
        "# calculating per minute call for diffrent category of calls\n",
        "total_avg_day_minutes = round(df['Total day minutes'].mean())\n",
        "total_avg_eve_minutes = round(df['Total eve minutes'].mean())\n",
        "total_avg_night_minutes = round(df['Total night minutes'].mean())\n",
        "total_avg_intl_minutes = round(df['Total intl minutes'].mean())\n",
        "print(\"Total minutes calls in day :\", total_avg_day_minutes)\n",
        "print('Total minutes calls in  evening :', total_avg_eve_minutes)\n",
        "print('Total minutes calls in  night :', total_avg_night_minutes)\n",
        "print('Total minutes calls in international :', total_avg_intl_minutes)"
      ],
      "metadata": {
        "id": "MfYg0CvuvK24"
      },
      "execution_count": null,
      "outputs": []
    },
    {
      "cell_type": "code",
      "source": [
        "sns.barplot( x=['Day','Evening','Night','International'], y=[total_avg_day_minutes,total_avg_eve_minutes,total_avg_night_minutes,total_avg_intl_minutes], width= 0.6)\n",
        "plt.show()"
      ],
      "metadata": {
        "id": "9zYy7i4cwg8B"
      },
      "execution_count": null,
      "outputs": []
    },
    {
      "cell_type": "code",
      "source": [
        "# calculating per minute call for diffrent category of calls\n",
        "total_day_minutes_sum = round(df['Total day minutes'].sum())\n",
        "total_eve_minutes_sum = round(df['Total eve minutes'].sum())\n",
        "total_night_minutes_sum = round(df['Total night minutes'].sum())\n",
        "total_intl_minutes_sum = round(df['Total intl minutes'].sum())\n",
        "print(\"Total minutes calls in day :\", total_day_minutes_sum)\n",
        "print('Total minutes calls in  evening :', total_eve_minutes_sum)\n",
        "print('Total minutes calls in  night :', total_night_minutes_sum)\n",
        "print('Total minutes calls in international :', total_intl_minutes_sum)"
      ],
      "metadata": {
        "id": "Z4sTbuOINnmS"
      },
      "execution_count": null,
      "outputs": []
    },
    {
      "cell_type": "code",
      "source": [
        "sns.barplot( x=['Day','Evening','Night','International'], y=[total_day_minutes_sum,total_eve_minutes_sum,total_night_minutes_sum,total_intl_minutes_sum], width= 0.6)\n",
        "plt.show()"
      ],
      "metadata": {
        "id": "FPoX0im7TcWh"
      },
      "execution_count": null,
      "outputs": []
    },
    {
      "cell_type": "code",
      "source": [
        "# calculating total call for diffrent category of calls\n",
        "total_day_calls_sum = round(df['Total day calls'].sum())\n",
        "total_eve_calls_sum = round(df['Total eve calls'].sum())\n",
        "total_night_calls_sum = round(df['Total night calls'].sum())\n",
        "total_intl_calls_sum = round(df['Total intl calls'].sum())\n",
        "print(\"Total calls in day :\", total_day_calls_sum)\n",
        "print('Total calls in  evening :', total_eve_calls_sum)\n",
        "print('Total calls in  night :', total_night_calls_sum)\n",
        "print('Total calls in international :', total_intl_calls_sum)"
      ],
      "metadata": {
        "id": "TdPTWpAVphqO"
      },
      "execution_count": null,
      "outputs": []
    },
    {
      "cell_type": "code",
      "source": [
        "sns.barplot( x=['Day','Evening','Night','International'], y=[total_day_calls_sum,total_eve_calls_sum,total_night_calls_sum,total_intl_calls_sum], width= 0.6)\n",
        "plt.show()"
      ],
      "metadata": {
        "id": "ecvbAGkBaNMN"
      },
      "execution_count": null,
      "outputs": []
    },
    {
      "cell_type": "code",
      "source": [
        "# calculating charge for diffrent category of calls\n",
        "total_day_charge_sum = round(df['Total day charge'].sum())\n",
        "total_eve_charge_sum = round(df['Total eve charge'].sum())\n",
        "total_night_charge_sum = round(df['Total night charge'].sum())\n",
        "total_intl_charge_sum = round(df['Total intl charge'].sum())\n",
        "print(\"Total charge in day :\", total_day_charge_sum)\n",
        "print('Total charge in  evening :', total_eve_charge_sum)\n",
        "print('Total charge in  night :', total_night_charge_sum)\n",
        "print('Total charge in international :', total_intl_charge_sum)"
      ],
      "metadata": {
        "id": "GM7a4YP4phqQ"
      },
      "execution_count": null,
      "outputs": []
    },
    {
      "cell_type": "code",
      "source": [
        "sns.barplot( x=['Day','Evening','Night','International'], y=[total_day_charge_sum,total_eve_charge_sum,total_night_charge_sum,total_intl_charge_sum], width= 0.6)\n",
        "plt.show()"
      ],
      "metadata": {
        "id": "rXzmpz4pvp3_"
      },
      "execution_count": null,
      "outputs": []
    },
    {
      "cell_type": "code",
      "source": [
        "# calculating charge per cals for diffrent category of calls\n",
        "day_charge_per_calls = round(df['Total day charge'].sum()/total_day_calls_sum, 2)\n",
        "eve_charge_per_calls = round(df['Total eve charge'].sum()/total_eve_calls_sum, 2)\n",
        "night_charge_per_calls = round(df['Total night charge'].sum()/total_night_calls_sum, 2)\n",
        "intl_charge_per_calls = round(df['Total intl charge'].sum()/total_intl_calls_sum, 2)\n",
        "print(\"Per Calls charge in day :\", day_charge_per_calls)\n",
        "print('Per Calls charge in  evening :', eve_charge_per_calls)\n",
        "print('Per Calls charge in  night :', night_charge_per_calls)\n",
        "print('Per Calls charge in international :', intl_charge_per_calls)"
      ],
      "metadata": {
        "id": "B2aS4O1ophqO"
      },
      "execution_count": null,
      "outputs": []
    },
    {
      "cell_type": "code",
      "source": [
        "sns.barplot( x=['Day','Evening','Night','International'], y=[day_charge_per_calls,eve_charge_per_calls,night_charge_per_calls,intl_charge_per_calls], width= 0.6)\n",
        "plt.show()"
      ],
      "metadata": {
        "id": "8DFPPgPPcC2D"
      },
      "execution_count": null,
      "outputs": []
    },
    {
      "cell_type": "markdown",
      "source": [
        "From the above graph we can see that international call charges are high as compared to other call charges so in next step we need to analyze if there is churn because of international calls or not."
      ],
      "metadata": {
        "id": "txztMcQMTp8Y"
      }
    },
    {
      "cell_type": "code",
      "source": [
        "# calculating charge per min for diffrent category of calls\n",
        "day_charge_per_min = round(df['Total day charge'].sum()/total_day_minutes_sum, 2)\n",
        "eve_charge_per_min = round(df['Total eve charge'].sum()/total_eve_minutes_sum, 2)\n",
        "night_charge_per_min = round(df['Total night charge'].sum()/total_night_minutes_sum, 2)\n",
        "intl_charge_per_min = round(df['Total intl charge'].sum()/total_intl_minutes_sum, 2)\n",
        "print(\"Per minute charge in day :\", day_charge_per_min)\n",
        "print('Per minute charge in  evening :', eve_charge_per_min)\n",
        "print('Per minute charge in  night :', night_charge_per_min)\n",
        "print('Per minute charge in international :', intl_charge_per_min)"
      ],
      "metadata": {
        "id": "mAQTIvtqp1cj"
      },
      "execution_count": null,
      "outputs": []
    },
    {
      "cell_type": "code",
      "source": [
        "sns.barplot( x=['Day','Evening','Night','International'], y=[day_charge_per_min,eve_charge_per_min,night_charge_per_min,intl_charge_per_min], width= 0.6)\n",
        "plt.show()"
      ],
      "metadata": {
        "id": "ABuRxsFYxjJj"
      },
      "execution_count": null,
      "outputs": []
    },
    {
      "cell_type": "markdown",
      "source": [
        "From the above graph we can see that international per min charges are high as compared to other call charges so in next step we need to analyze if there is churn because of international calls or not."
      ],
      "metadata": {
        "id": "-TDcnZmwTvnT"
      }
    },
    {
      "cell_type": "markdown",
      "source": [
        "#### Correlation Heatmap of the dataset"
      ],
      "metadata": {
        "id": "UbSEOVzZT4hI"
      }
    },
    {
      "cell_type": "code",
      "source": [
        "# ploting heatmap for analyzing correlation between the variables\n",
        "sns.heatmap(df.corr(),annot=True,cmap='RdYlGn',linewidths=0.2)\n",
        "fig=plt.gcf()\n",
        "fig.set_size_inches(15,8)\n",
        "plt.show()"
      ],
      "metadata": {
        "id": "xyC9zolEZNRQ"
      },
      "execution_count": null,
      "outputs": []
    },
    {
      "cell_type": "markdown",
      "source": [
        "This heat map shows there is high correlation between churn and Total day minute/Total day charge, total eve calls and total eve charge and customer service calls"
      ],
      "metadata": {
        "id": "UV0SzAkaZNRQ"
      }
    },
    {
      "cell_type": "markdown",
      "source": [
        "#### Pair Plot of Datasets"
      ],
      "metadata": {
        "id": "q29F0dvdveiT"
      }
    },
    {
      "cell_type": "code",
      "source": [
        "# Plot a pairplot of the dataset\n",
        "plt.close()\n",
        "sns.set_style(\"whitegrid\")\n",
        "sns.pairplot(df, hue=\"Churn\", height=4, kind= 'hist')\n",
        "plt.show()"
      ],
      "metadata": {
        "id": "o58-TEIhveiU"
      },
      "execution_count": null,
      "outputs": []
    },
    {
      "cell_type": "markdown",
      "source": [
        "## **Solution to Business Objective**"
      ],
      "metadata": {
        "id": "JcMwzZxoAimU"
      }
    },
    {
      "cell_type": "markdown",
      "source": [
        "\n",
        "\n",
        "*   This heat map shows there is high correlation between churn and Total day minute/Total day charge, total eve calls and total eve charge and customer service calls\n",
        "*   In states (NJ, CA, TX, MD, SC ) where churn is high company needs to inspect if there is low network penetration or competitor are offering cheaper prices.\n",
        "\n",
        "*   Customer with international calling plan churn 200% more than normal customers so this needs to be addressed with optimal international calling rate.\n",
        "*   When there are more than 3 service calls the churn increases which mean there is need of resolving customers concerns for customer retention and satisfaction which lead to reduction in customer churn.\n",
        "\n",
        "\n",
        "\n",
        "\n",
        "\n",
        "\n"
      ],
      "metadata": {
        "id": "8G2x9gOozGDZ"
      }
    },
    {
      "cell_type": "markdown",
      "source": [
        "# **Conclusion**"
      ],
      "metadata": {
        "id": "gCX9965dhzqZ"
      }
    },
    {
      "cell_type": "markdown",
      "source": [
        "There is correlation between churn and Total day minute/Total day charge, total eve calls and total eve charge and customer service calls. Higher total day minutes or total day charge is responsible for customer chrun"
      ],
      "metadata": {
        "id": "Fjb1IsQkh3yE"
      }
    },
    {
      "cell_type": "markdown",
      "source": [
        "### ***Hurrah! You have successfully completed your EDA Capstone Project !!!***"
      ],
      "metadata": {
        "id": "gIfDvo9L0UH2"
      }
    }
  ]
}